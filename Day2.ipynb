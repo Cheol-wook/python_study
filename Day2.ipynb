{
 "cells": [
  {
   "cell_type": "code",
   "execution_count": 1,
   "id": "bfabb47a",
   "metadata": {},
   "outputs": [
    {
     "name": "stdout",
     "output_type": "stream",
     "text": [
      "hello\n"
     ]
    }
   ],
   "source": [
    "print(\"hello\")\n"
   ]
  },
  {
   "cell_type": "code",
   "execution_count": 2,
   "id": "3a601dda",
   "metadata": {},
   "outputs": [
    {
     "name": "stdout",
     "output_type": "stream",
     "text": [
      "택시를 타시오\n"
     ]
    }
   ],
   "source": [
    "money = True\n",
    "if money :\n",
    "    print(\"택시를 타시오\")\n",
    "else:\n",
    "    print(\"걸어 가시오\")"
   ]
  },
  {
   "cell_type": "code",
   "execution_count": 3,
   "id": "a30bcaaf",
   "metadata": {},
   "outputs": [
    {
     "name": "stdout",
     "output_type": "stream",
     "text": [
      "걸어 가시오\n"
     ]
    }
   ],
   "source": [
    "money = 2000\n",
    "if money >= 3000 :\n",
    "    print(\"택시를 타시오\")\n",
    "else:\n",
    "    print(\"걸어 가시오\")"
   ]
  },
  {
   "cell_type": "code",
   "execution_count": 4,
   "id": "9bf95da4",
   "metadata": {},
   "outputs": [
    {
     "name": "stdout",
     "output_type": "stream",
     "text": [
      "택시를 타시오\n"
     ]
    }
   ],
   "source": [
    "money = 2000\n",
    "card = True\n",
    "if money >= 3000 or card:\n",
    "    print(\"택시를 타시오\")\n",
    "else:\n",
    "    print(\"걸어 가시오\")"
   ]
  },
  {
   "cell_type": "code",
   "execution_count": 6,
   "id": "5a7a739b",
   "metadata": {},
   "outputs": [
    {
     "data": {
      "text/plain": [
       "True"
      ]
     },
     "execution_count": 6,
     "metadata": {},
     "output_type": "execute_result"
    }
   ],
   "source": [
    "1 in [1, 2, 3]"
   ]
  },
  {
   "cell_type": "code",
   "execution_count": 7,
   "id": "f48e4b72",
   "metadata": {},
   "outputs": [
    {
     "data": {
      "text/plain": [
       "False"
      ]
     },
     "execution_count": 7,
     "metadata": {},
     "output_type": "execute_result"
    }
   ],
   "source": [
    "1 not in [1,2,3]"
   ]
  },
  {
   "cell_type": "code",
   "execution_count": 8,
   "id": "01ccd851",
   "metadata": {},
   "outputs": [
    {
     "name": "stdout",
     "output_type": "stream",
     "text": [
      "택시를 타라\n"
     ]
    }
   ],
   "source": [
    "pocket = ['paper', 'cellphone', 'money']\n",
    "if 'money' in pocket:\n",
    "    print(\"택시를 타라\")\n",
    "else:\n",
    "    print(\"걸어가라\")"
   ]
  },
  {
   "cell_type": "code",
   "execution_count": 9,
   "id": "dcb20452",
   "metadata": {},
   "outputs": [
    {
     "name": "stdout",
     "output_type": "stream",
     "text": [
      "택시를 타라\n"
     ]
    }
   ],
   "source": [
    "pocket = ['paper', 'handphone']\n",
    "card = True\n",
    "if 'money' in pocket:\n",
    "    print(\"택시를 타라\")\n",
    "else:\n",
    "    if card:\n",
    "        print(\"택시를 타라\")\n",
    "    else:\n",
    "        print(\"걸어가라\")"
   ]
  },
  {
   "cell_type": "code",
   "execution_count": 10,
   "id": "d23679ab",
   "metadata": {},
   "outputs": [
    {
     "name": "stdout",
     "output_type": "stream",
     "text": [
      "택시를 타라\n"
     ]
    }
   ],
   "source": [
    "pocket = ['paper', 'handphone']\n",
    "card = True\n",
    "if 'money' in pocket:\n",
    "    print(\"택시를 타라\")\n",
    "elif card:\n",
    "    print(\"택시를 타라\")\n",
    "else:\n",
    "    print(\"걸어가라\")"
   ]
  },
  {
   "cell_type": "code",
   "execution_count": 12,
   "id": "b6c6450f",
   "metadata": {},
   "outputs": [
    {
     "name": "stdout",
     "output_type": "stream",
     "text": [
      "success\n"
     ]
    }
   ],
   "source": [
    "score = 65\n",
    "if score >= 60:\n",
    "    message = \"success\"\n",
    "else:\n",
    "    message = \"failure\"\n",
    "    \n",
    "print(message)"
   ]
  },
  {
   "cell_type": "code",
   "execution_count": 15,
   "id": "56278fae",
   "metadata": {},
   "outputs": [
    {
     "name": "stdout",
     "output_type": "stream",
     "text": [
      "나무를 1번 찍었습니다.\n",
      "나무를 2번 찍었습니다.\n",
      "나무를 3번 찍었습니다.\n",
      "나무를 4번 찍었습니다.\n",
      "나무를 5번 찍었습니다.\n",
      "나무를 6번 찍었습니다.\n",
      "나무를 7번 찍었습니다.\n",
      "나무를 8번 찍었습니다.\n",
      "나무를 9번 찍었습니다.\n",
      "나무를 10번 찍었습니다.\n",
      "나무가 넘어갑니다~~~~~\n"
     ]
    }
   ],
   "source": [
    "treehit = 0\n",
    "while treehit < 10:\n",
    "    treehit = treehit +1\n",
    "    print(\"나무를 %d번 찍었습니다.\" % treehit)\n",
    "    if treehit == 10:\n",
    "        print(\"나무가 넘어갑니다~~~~~\")"
   ]
  },
  {
   "cell_type": "code",
   "execution_count": 16,
   "id": "14cb0397",
   "metadata": {},
   "outputs": [
    {
     "name": "stdout",
     "output_type": "stream",
     "text": [
      "\n",
      "1. Add\n",
      "2. Del\n",
      "3. List\n",
      "4. Quit\n",
      "\n",
      "Enter Number : \n",
      "1\n",
      "\n",
      "1. Add\n",
      "2. Del\n",
      "3. List\n",
      "4. Quit\n",
      "\n",
      "Enter Number : \n",
      "4\n"
     ]
    }
   ],
   "source": [
    "prompt = \"\"\"\n",
    "1. Add\n",
    "2. Del\n",
    "3. List\n",
    "4. Quit\n",
    "\n",
    "Enter Number : \"\"\"\n",
    "\n",
    "number = 0\n",
    "while number != 4:\n",
    "    print(prompt)\n",
    "    number = int(input())"
   ]
  },
  {
   "cell_type": "code",
   "execution_count": 20,
   "id": "65ed3e88",
   "metadata": {},
   "outputs": [
    {
     "name": "stdout",
     "output_type": "stream",
     "text": [
      "돈을 받았으니 커피를 드립니다\n",
      "남은 커피의 양은 10개 입니다.\n",
      "돈을 받았으니 커피를 드립니다\n",
      "남은 커피의 양은 9개 입니다.\n",
      "돈을 받았으니 커피를 드립니다\n",
      "남은 커피의 양은 8개 입니다.\n",
      "돈을 받았으니 커피를 드립니다\n",
      "남은 커피의 양은 7개 입니다.\n",
      "돈을 받았으니 커피를 드립니다\n",
      "남은 커피의 양은 6개 입니다.\n",
      "돈을 받았으니 커피를 드립니다\n",
      "남은 커피의 양은 5개 입니다.\n",
      "돈을 받았으니 커피를 드립니다\n",
      "남은 커피의 양은 4개 입니다.\n",
      "돈을 받았으니 커피를 드립니다\n",
      "남은 커피의 양은 3개 입니다.\n",
      "돈을 받았으니 커피를 드립니다\n",
      "남은 커피의 양은 2개 입니다.\n",
      "돈을 받았으니 커피를 드립니다\n",
      "남은 커피의 양은 1개 입니다.\n",
      "손님이 나갔습니다. 판매를 중지합니다.\n"
     ]
    }
   ],
   "source": [
    "coffee = 11\n",
    "money = 300\n",
    "while money:\n",
    "    print(\"돈을 받았으니 커피를 드립니다\")\n",
    "    coffee = coffee -1\n",
    "    money = money - 30\n",
    "    print(\"남은 커피의 양은 %d개 입니다.\" % coffee)\n",
    "    if coffee == 0:\n",
    "        print(\"커피가 다 떨어졌습니다. 판매를 중지합니다.\")\n",
    "    elif money == 0:\n",
    "        print(\"손님이 나갔습니다. 판매를 중지합니다.\")"
   ]
  },
  {
   "cell_type": "code",
   "execution_count": 26,
   "id": "a9abf9b3",
   "metadata": {},
   "outputs": [
    {
     "name": "stdout",
     "output_type": "stream",
     "text": [
      "\n",
      "\n",
      "돈을 넣어주세요 : 500\n",
      "거스름돈 200원을 주고 커피를 줍니다.\n",
      "남은 커피의 양은 9개 입니다.\n",
      "\n",
      "\n",
      "돈을 넣어주세요 : 300\n",
      "커피를 줍니다.\n",
      "남은 커피의 양은 8개 입니다.\n",
      "\n",
      "\n",
      "돈을 넣어주세요 : 100\n",
      "잔액이 부족합니다. 돈을 돌려줍니다.\n",
      "남은 커피의 양은 8개 입니다.\n",
      "\n",
      "\n",
      "돈을 넣어주세요 : 1000\n",
      "거스름돈 700원을 주고 커피를 줍니다.\n",
      "남은 커피의 양은 7개 입니다.\n",
      "\n",
      "\n",
      "돈을 넣어주세요 : 300\n",
      "커피를 줍니다.\n",
      "남은 커피의 양은 6개 입니다.\n",
      "\n",
      "\n",
      "돈을 넣어주세요 : 300\n",
      "커피를 줍니다.\n",
      "남은 커피의 양은 5개 입니다.\n",
      "\n",
      "\n",
      "돈을 넣어주세요 : 300\n",
      "커피를 줍니다.\n",
      "남은 커피의 양은 4개 입니다.\n",
      "\n",
      "\n",
      "돈을 넣어주세요 : 300\n",
      "커피를 줍니다.\n",
      "남은 커피의 양은 3개 입니다.\n",
      "\n",
      "\n",
      "돈을 넣어주세요 : 300\n",
      "커피를 줍니다.\n",
      "남은 커피의 양은 2개 입니다.\n",
      "\n",
      "\n",
      "돈을 넣어주세요 : 300\n",
      "커피를 줍니다.\n",
      "남은 커피의 양은 1개 입니다.\n",
      "\n",
      "\n",
      "돈을 넣어주세요 : 300\n",
      "커피를 줍니다.\n",
      "남은 커피의 양은 0개 입니다.\n",
      "커피가 다 떨어졌습니다. 판매를 중지합니다.\n"
     ]
    }
   ],
   "source": [
    "coffee = 10\n",
    "while True:\n",
    "    money = int(input(\"\\n\\n돈을 넣어주세요 : \"))\n",
    "    if money == 300:\n",
    "        print(\"커피를 줍니다.\")\n",
    "        coffee = coffee -1\n",
    "    elif money > 300:\n",
    "        print(\"거스름돈 %d원을 주고 커피를 줍니다.\" % (money - 300))\n",
    "        coffee = coffee -1\n",
    "    else:\n",
    "        print(\"잔액이 부족합니다. 돈을 돌려줍니다.\")\n",
    "    print(\"남은 커피의 양은 %d개 입니다.\" % coffee)\n",
    "    if coffee ==0:\n",
    "        print(\"커피가 다 떨어졌습니다. 판매를 중지합니다.\")\n",
    "        break"
   ]
  },
  {
   "cell_type": "code",
   "execution_count": 28,
   "id": "38f9cb56",
   "metadata": {},
   "outputs": [
    {
     "name": "stdout",
     "output_type": "stream",
     "text": [
      "1\n",
      "3\n",
      "5\n",
      "7\n",
      "9\n"
     ]
    }
   ],
   "source": [
    "a = 0\n",
    "while a < 10:\n",
    "    a = a + 1\n",
    "    if a % 2 == 0 : continue\n",
    "    print(a)"
   ]
  },
  {
   "cell_type": "code",
   "execution_count": 31,
   "id": "efdb54f4",
   "metadata": {},
   "outputs": [
    {
     "name": "stdout",
     "output_type": "stream",
     "text": [
      "2550\n"
     ]
    }
   ],
   "source": [
    "a = 0\n",
    "b = 0\n",
    "while a < 100:\n",
    "    a = a + 1\n",
    "    if a % 2 == 0 :\n",
    "        b = b + a\n",
    "        continue\n",
    "print(b)"
   ]
  },
  {
   "cell_type": "code",
   "execution_count": 32,
   "id": "6cfd163b",
   "metadata": {},
   "outputs": [
    {
     "name": "stdout",
     "output_type": "stream",
     "text": [
      "one\n",
      "two\n",
      "three\n"
     ]
    }
   ],
   "source": [
    "test_list = ['one', 'two', 'three']\n",
    "for i in test_list:\n",
    "    print(i)"
   ]
  },
  {
   "cell_type": "code",
   "execution_count": 33,
   "id": "6150a871",
   "metadata": {},
   "outputs": [
    {
     "name": "stdout",
     "output_type": "stream",
     "text": [
      "3\n",
      "7\n",
      "11\n"
     ]
    }
   ],
   "source": [
    "a = [(1,2),(3,4),(5,6)]\n",
    "for(first, last) in a:\n",
    "    print(first+last)"
   ]
  },
  {
   "cell_type": "code",
   "execution_count": 34,
   "id": "98f7d3a0",
   "metadata": {},
   "outputs": [
    {
     "data": {
      "text/plain": [
       "range(1, 11)"
      ]
     },
     "execution_count": 34,
     "metadata": {},
     "output_type": "execute_result"
    }
   ],
   "source": [
    "a = range(1,11)\n",
    "a"
   ]
  },
  {
   "cell_type": "code",
   "execution_count": 37,
   "id": "9f754d81",
   "metadata": {},
   "outputs": [
    {
     "name": "stdout",
     "output_type": "stream",
     "text": [
      "55\n"
     ]
    }
   ],
   "source": [
    "add = 0\n",
    "for i in range(1,11):\n",
    "    add = add + i\n",
    "    \n",
    "print(add)"
   ]
  },
  {
   "cell_type": "code",
   "execution_count": 44,
   "id": "f2f31d81",
   "metadata": {},
   "outputs": [
    {
     "name": "stdout",
     "output_type": "stream",
     "text": [
      "2 x 1 = 2 \n",
      "2 x 2 = 4 \n",
      "2 x 3 = 6 \n",
      "2 x 4 = 8 \n",
      "2 x 5 = 10 \n",
      "2 x 6 = 12 \n",
      "2 x 7 = 14 \n",
      "2 x 8 = 16 \n",
      "2 x 9 = 18 \n",
      "3 x 1 = 3 \n",
      "3 x 2 = 6 \n",
      "3 x 3 = 9 \n",
      "3 x 4 = 12 \n",
      "3 x 5 = 15 \n",
      "3 x 6 = 18 \n",
      "3 x 7 = 21 \n",
      "3 x 8 = 24 \n",
      "3 x 9 = 27 \n",
      "4 x 1 = 4 \n",
      "4 x 2 = 8 \n",
      "4 x 3 = 12 \n",
      "4 x 4 = 16 \n",
      "4 x 5 = 20 \n",
      "4 x 6 = 24 \n",
      "4 x 7 = 28 \n",
      "4 x 8 = 32 \n",
      "4 x 9 = 36 \n",
      "5 x 1 = 5 \n",
      "5 x 2 = 10 \n",
      "5 x 3 = 15 \n",
      "5 x 4 = 20 \n",
      "5 x 5 = 25 \n",
      "5 x 6 = 30 \n",
      "5 x 7 = 35 \n",
      "5 x 8 = 40 \n",
      "5 x 9 = 45 \n",
      "6 x 1 = 6 \n",
      "6 x 2 = 12 \n",
      "6 x 3 = 18 \n",
      "6 x 4 = 24 \n",
      "6 x 5 = 30 \n",
      "6 x 6 = 36 \n",
      "6 x 7 = 42 \n",
      "6 x 8 = 48 \n",
      "6 x 9 = 54 \n",
      "7 x 1 = 7 \n",
      "7 x 2 = 14 \n",
      "7 x 3 = 21 \n",
      "7 x 4 = 28 \n",
      "7 x 5 = 35 \n",
      "7 x 6 = 42 \n",
      "7 x 7 = 49 \n",
      "7 x 8 = 56 \n",
      "7 x 9 = 63 \n",
      "8 x 1 = 8 \n",
      "8 x 2 = 16 \n",
      "8 x 3 = 24 \n",
      "8 x 4 = 32 \n",
      "8 x 5 = 40 \n",
      "8 x 6 = 48 \n",
      "8 x 7 = 56 \n",
      "8 x 8 = 64 \n",
      "8 x 9 = 72 \n",
      "9 x 1 = 9 \n",
      "9 x 2 = 18 \n",
      "9 x 3 = 27 \n",
      "9 x 4 = 36 \n",
      "9 x 5 = 45 \n",
      "9 x 6 = 54 \n",
      "9 x 7 = 63 \n",
      "9 x 8 = 72 \n",
      "9 x 9 = 81 \n"
     ]
    }
   ],
   "source": [
    "for i in range(2, 10):\n",
    "    for j in range(1, 10):\n",
    "        print(i, \"x\", j, \"=\", i*j, end=\" \")\n",
    "        print('')"
   ]
  },
  {
   "cell_type": "code",
   "execution_count": 45,
   "id": "27424f3d",
   "metadata": {},
   "outputs": [
    {
     "name": "stdout",
     "output_type": "stream",
     "text": [
      "166833\n"
     ]
    }
   ],
   "source": [
    "a = 0\n",
    "add = 0\n",
    "while a < 1000:\n",
    "    a = a+1\n",
    "    if a % 3 == 0:\n",
    "        add = add + a\n",
    "\n",
    "print(add)"
   ]
  },
  {
   "cell_type": "code",
   "execution_count": null,
   "id": "c1f7eda5",
   "metadata": {},
   "outputs": [],
   "source": []
  }
 ],
 "metadata": {
  "kernelspec": {
   "display_name": "Python 3 (ipykernel)",
   "language": "python",
   "name": "python3"
  },
  "language_info": {
   "codemirror_mode": {
    "name": "ipython",
    "version": 3
   },
   "file_extension": ".py",
   "mimetype": "text/x-python",
   "name": "python",
   "nbconvert_exporter": "python",
   "pygments_lexer": "ipython3",
   "version": "3.10.4"
  }
 },
 "nbformat": 4,
 "nbformat_minor": 5
}
